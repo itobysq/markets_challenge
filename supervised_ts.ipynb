{
 "cells": [
  {
   "cell_type": "markdown",
   "metadata": {},
   "source": [
    "# Objective\n",
    "Predict the energy throughput ratio of each frequency regulartion for each 5 minute interval during Feb 21-28.\n",
    "1. Regulation throughput ratio = abs(average power) / regulation capacity award. A resource that averages 5MW (discharging) during an hour with a market award of 10MW Regulation Raise would have a 50% Raise Regulation Throughput Ratio. (5MW/10MW=50%)\n",
    "\n",
    "#### Ratio implications ####\n",
    "- If the throughput ratio is high, then the energy intensity of providing regulation is high\n",
    "- A traditional energy award is a throughput ratio of 1. \n",
    "\n",
    "#### Tasks ####\n",
    "1. Clean and prepare data\n",
    "<p> Eliminate any obvious outlier frequency values</p>\n",
    "<p> transform the 1 second frequency data in to 2 new columns. 5 minute average and 5 minute median</p>\n",
    "2. Analyze data and summarize key observations\n",
    "3. Prediction model\n",
    "<p> why did you choose this model </p>\n",
    "<p> Did you consider any other methods</p>\n",
    "<p> predict regulation raise and lower throughput ratios for the last week in Feb</p>\n",
    "<p> forecast in csv and include summary visuals</p>\n",
    "<p> list the features and why you selected them</p>\n",
    "<p> attach code</p>\n",
    "<p> how would you describe the effectiveness</p>\n",
    "<p> what other data would you want?</p>"
   ]
  },
  {
   "cell_type": "markdown",
   "metadata": {},
   "source": [
    "## Imports"
   ]
  },
  {
   "cell_type": "code",
   "execution_count": 1,
   "metadata": {},
   "outputs": [],
   "source": [
    "import pandas as pd\n",
    "import datetime\n",
    "import matplotlib.pyplot as plt\n",
    "import seaborn as sns\n",
    "import timeseries_helpers as th\n",
    "import numpy as np\n",
    "sns.set()"
   ]
  },
  {
   "cell_type": "markdown",
   "metadata": {},
   "source": [
    "## 1. Clean and prepare the data\n",
    "What does the data look like?"
   ]
  },
  {
   "cell_type": "code",
   "execution_count": 2,
   "metadata": {},
   "outputs": [
    {
     "data": {
      "text/html": [
       "<div>\n",
       "<style scoped>\n",
       "    .dataframe tbody tr th:only-of-type {\n",
       "        vertical-align: middle;\n",
       "    }\n",
       "\n",
       "    .dataframe tbody tr th {\n",
       "        vertical-align: top;\n",
       "    }\n",
       "\n",
       "    .dataframe thead th {\n",
       "        text-align: right;\n",
       "    }\n",
       "</style>\n",
       "<table border=\"1\" class=\"dataframe\">\n",
       "  <thead>\n",
       "    <tr style=\"text-align: right;\">\n",
       "      <th></th>\n",
       "      <th>Timestamp (GMT)</th>\n",
       "      <th>Frequency (Hz)</th>\n",
       "    </tr>\n",
       "  </thead>\n",
       "  <tbody>\n",
       "    <tr>\n",
       "      <th>0</th>\n",
       "      <td>1514728800001</td>\n",
       "      <td>50.0</td>\n",
       "    </tr>\n",
       "    <tr>\n",
       "      <th>1</th>\n",
       "      <td>1514728801001</td>\n",
       "      <td>50.0</td>\n",
       "    </tr>\n",
       "  </tbody>\n",
       "</table>\n",
       "</div>"
      ],
      "text/plain": [
       "   Timestamp (GMT)  Frequency (Hz)\n",
       "0    1514728800001            50.0\n",
       "1    1514728801001            50.0"
      ]
     },
     "execution_count": 2,
     "metadata": {},
     "output_type": "execute_result"
    }
   ],
   "source": [
    "freq_df = pd.read_csv('frequency.csv')\n",
    "freq_df.head(2)"
   ]
  },
  {
   "cell_type": "markdown",
   "metadata": {},
   "source": [
    "# Taks 1A eliminate any obvious outliers. \n",
    "Plan: \n",
    "1. Plot the frequency over time and look for outliers\n",
    "2. Remove data points that are more than 4 standard deviations away"
   ]
  },
  {
   "cell_type": "code",
   "execution_count": 3,
   "metadata": {},
   "outputs": [],
   "source": [
    "freq_df['utc_date'] = pd.to_datetime(freq_df['Timestamp (GMT)'], unit='ms')\n",
    "freq_df.index = freq_df.utc_date\n",
    "freq_df.index = freq_df.index.tz_localize('UTC')\n",
    "freq_df.index = freq_df.index.tz_convert('Australia/Sydney')"
   ]
  },
  {
   "cell_type": "code",
   "execution_count": 4,
   "metadata": {},
   "outputs": [
    {
     "data": {
      "text/plain": [
       "(49.7, 50.5)"
      ]
     },
     "execution_count": 4,
     "metadata": {},
     "output_type": "execute_result"
    },
    {
     "data": {
      "image/png": "[encoded data removed]",
      "text/plain": [
       "<Figure size 432x288 with 1 Axes>"
      ]
     },
     "metadata": {},
     "output_type": "display_data"
    }
   ],
   "source": [
    "axs = freq_df['Frequency (Hz)'].plot()\n",
    "axs.set_ylabel('Frequency (Hz)')\n",
    "axs.set_ylim(49.7, 50.5)"
   ]
  },
  {
   "cell_type": "markdown",
   "metadata": {},
   "source": [
    "It does not look like the variance is changing over time so no need to account for heteroskedacity"
   ]
  },
  {
   "cell_type": "code",
   "execution_count": 5,
   "metadata": {},
   "outputs": [
    {
     "data": {
      "text/plain": [
       "Text(0,0.5,'Number of occurrences')"
      ]
     },
     "execution_count": 5,
     "metadata": {},
     "output_type": "execute_result"
    },
    {
     "data": {
      "image/png": "[encoded data removed]",
      "text/plain": [
       "<Figure size 432x288 with 1 Axes>"
      ]
     },
     "metadata": {},
     "output_type": "display_data"
    }
   ],
   "source": [
    "ax2 = freq_df['Frequency (Hz)'].plot(kind='hist', bins=100)\n",
    "ax2.set_xlabel('Frequency (Hz)')\n",
    "ax2.set_ylabel('Number of occurrences')"
   ]
  },
  {
   "cell_type": "markdown",
   "metadata": {},
   "source": [
    "It is interesting that there is one bin in the histogram that has nearly double the number of occurrences. Perhaps it's a default value in the frequency measurement system. I would ask for more information to determine if that value is physically meaningful."
   ]
  },
  {
   "cell_type": "code",
   "execution_count": 6,
   "metadata": {},
   "outputs": [],
   "source": [
    "freq_sd = freq_df['Frequency (Hz)'].std()\n",
    "freq_mean = freq_df['Frequency (Hz)'].mean()"
   ]
  },
  {
   "cell_type": "code",
   "execution_count": 7,
   "metadata": {},
   "outputs": [
    {
     "data": {
      "text/plain": [
       "(49.7, 50.5)"
      ]
     },
     "execution_count": 7,
     "metadata": {},
     "output_type": "execute_result"
    },
    {
     "data": {
      "image/png": "[encoded data removed]",
      "text/plain": [
       "<Figure size 432x288 with 1 Axes>"
      ]
     },
     "metadata": {},
     "output_type": "display_data"
    }
   ],
   "source": [
    "freq_df = freq_df.loc[((freq_mean - 4*freq_sd) < freq_df['Frequency (Hz)']) &\n",
    "                              (freq_df['Frequency (Hz)'] < (freq_mean + 4*freq_sd))]\n",
    "axs = freq_df['Frequency (Hz)'].plot()\n",
    "axs.set_ylabel('Frequency (Hz)')\n",
    "axs.set_ylim(49.7, 50.5)"
   ]
  },
  {
   "cell_type": "markdown",
   "metadata": {},
   "source": [
    "### Task 1B:\n",
    "Convert 1 second frequnecy data into 5 minute average values and 5 minute median values"
   ]
  },
  {
   "cell_type": "code",
   "execution_count": 8,
   "metadata": {},
   "outputs": [],
   "source": [
    "five_min_mean = freq_df.resample('5T').mean()\n",
    "del five_min_mean['Timestamp (GMT)']"
   ]
  },
  {
   "cell_type": "code",
   "execution_count": 9,
   "metadata": {},
   "outputs": [],
   "source": [
    "def mean_resampler(array_like):\n",
    "    return np.median(array_like)\n",
    "def variance_resample(array_like):\n",
    "    return np.var(array_like)"
   ]
  },
  {
   "cell_type": "code",
   "execution_count": 10,
   "metadata": {},
   "outputs": [],
   "source": [
    "five_min_var = freq_df.resample('5T').apply(variance_resample)\n",
    "del five_min_var['Timestamp (GMT)']"
   ]
  },
  {
   "cell_type": "code",
   "execution_count": 11,
   "metadata": {},
   "outputs": [],
   "source": [
    "five_min_median = freq_df.resample('5T').apply(mean_resampler)\n",
    "del five_min_median['Timestamp (GMT)']"
   ]
  },
  {
   "cell_type": "code",
   "execution_count": 12,
   "metadata": {},
   "outputs": [],
   "source": [
    "five_min_mean = five_min_mean.\\\n",
    "                    rename(columns={'Frequency (Hz)': '5_min_mean_freq_hz'})\n",
    "five_min_median = five_min_median.\\\n",
    "                rename(columns={'Frequency (Hz)': '5_min_median_freq_hz'})\n",
    "five_min_var = five_min_var.\\\n",
    "            rename(columns={'Frequency (Hz)': '5_min_freq_var'})"
   ]
  },
  {
   "cell_type": "code",
   "execution_count": 13,
   "metadata": {},
   "outputs": [
    {
     "data": {
      "text/html": [
       "<div>\n",
       "<style scoped>\n",
       "    .dataframe tbody tr th:only-of-type {\n",
       "        vertical-align: middle;\n",
       "    }\n",
       "\n",
       "    .dataframe tbody tr th {\n",
       "        vertical-align: top;\n",
       "    }\n",
       "\n",
       "    .dataframe thead th {\n",
       "        text-align: right;\n",
       "    }\n",
       "</style>\n",
       "<table border=\"1\" class=\"dataframe\">\n",
       "  <thead>\n",
       "    <tr style=\"text-align: right;\">\n",
       "      <th></th>\n",
       "      <th>5_min_mean_freq_hz</th>\n",
       "      <th>5_min_median_freq_hz</th>\n",
       "      <th>5_min_freq_var</th>\n",
       "    </tr>\n",
       "    <tr>\n",
       "      <th>utc_date</th>\n",
       "      <th></th>\n",
       "      <th></th>\n",
       "      <th></th>\n",
       "    </tr>\n",
       "  </thead>\n",
       "  <tbody>\n",
       "    <tr>\n",
       "      <th>2018-03-01 00:35:00+11:00</th>\n",
       "      <td>50.034233</td>\n",
       "      <td>50.029999</td>\n",
       "      <td>0.000488</td>\n",
       "    </tr>\n",
       "    <tr>\n",
       "      <th>2018-03-01 00:40:00+11:00</th>\n",
       "      <td>50.026300</td>\n",
       "      <td>50.025000</td>\n",
       "      <td>0.000553</td>\n",
       "    </tr>\n",
       "    <tr>\n",
       "      <th>2018-03-01 00:45:00+11:00</th>\n",
       "      <td>50.015733</td>\n",
       "      <td>50.020000</td>\n",
       "      <td>0.001991</td>\n",
       "    </tr>\n",
       "    <tr>\n",
       "      <th>2018-03-01 00:50:00+11:00</th>\n",
       "      <td>50.039000</td>\n",
       "      <td>50.040001</td>\n",
       "      <td>0.000498</td>\n",
       "    </tr>\n",
       "    <tr>\n",
       "      <th>2018-03-01 00:55:00+11:00</th>\n",
       "      <td>49.991300</td>\n",
       "      <td>49.990002</td>\n",
       "      <td>0.000593</td>\n",
       "    </tr>\n",
       "  </tbody>\n",
       "</table>\n",
       "</div>"
      ],
      "text/plain": [
       "                           5_min_mean_freq_hz  5_min_median_freq_hz  \\\n",
       "utc_date                                                              \n",
       "2018-03-01 00:35:00+11:00           50.034233             50.029999   \n",
       "2018-03-01 00:40:00+11:00           50.026300             50.025000   \n",
       "2018-03-01 00:45:00+11:00           50.015733             50.020000   \n",
       "2018-03-01 00:50:00+11:00           50.039000             50.040001   \n",
       "2018-03-01 00:55:00+11:00           49.991300             49.990002   \n",
       "\n",
       "                           5_min_freq_var  \n",
       "utc_date                                   \n",
       "2018-03-01 00:35:00+11:00        0.000488  \n",
       "2018-03-01 00:40:00+11:00        0.000553  \n",
       "2018-03-01 00:45:00+11:00        0.001991  \n",
       "2018-03-01 00:50:00+11:00        0.000498  \n",
       "2018-03-01 00:55:00+11:00        0.000593  "
      ]
     },
     "execution_count": 13,
     "metadata": {},
     "output_type": "execute_result"
    }
   ],
   "source": [
    "downsampled_df = five_min_mean.join(five_min_median)\n",
    "downsampled_df = downsampled_df.join(five_min_var)\n",
    "downsampled_df.tail()"
   ]
  },
  {
   "cell_type": "markdown",
   "metadata": {},
   "source": [
    "## Analyze the data set"
   ]
  },
  {
   "cell_type": "code",
   "execution_count": 14,
   "metadata": {},
   "outputs": [
    {
     "data": {
      "text/html": [
       "<div>\n",
       "<style scoped>\n",
       "    .dataframe tbody tr th:only-of-type {\n",
       "        vertical-align: middle;\n",
       "    }\n",
       "\n",
       "    .dataframe tbody tr th {\n",
       "        vertical-align: top;\n",
       "    }\n",
       "\n",
       "    .dataframe thead th {\n",
       "        text-align: right;\n",
       "    }\n",
       "</style>\n",
       "<table border=\"1\" class=\"dataframe\">\n",
       "  <thead>\n",
       "    <tr style=\"text-align: right;\">\n",
       "      <th></th>\n",
       "      <th>Interval Ending (AEST)</th>\n",
       "      <th>Raise Throughput Ratio</th>\n",
       "      <th>Lower Throughput Ratio</th>\n",
       "    </tr>\n",
       "  </thead>\n",
       "  <tbody>\n",
       "    <tr>\n",
       "      <th>0</th>\n",
       "      <td>1/1/18 0:05</td>\n",
       "      <td>NaN</td>\n",
       "      <td>NaN</td>\n",
       "    </tr>\n",
       "    <tr>\n",
       "      <th>1</th>\n",
       "      <td>1/1/18 0:10</td>\n",
       "      <td>0.224593</td>\n",
       "      <td>NaN</td>\n",
       "    </tr>\n",
       "  </tbody>\n",
       "</table>\n",
       "</div>"
      ],
      "text/plain": [
       "  Interval Ending (AEST)  Raise Throughput Ratio  Lower Throughput Ratio\n",
       "0            1/1/18 0:05                     NaN                     NaN\n",
       "1            1/1/18 0:10                0.224593                     NaN"
      ]
     },
     "execution_count": 14,
     "metadata": {},
     "output_type": "execute_result"
    }
   ],
   "source": [
    "ratio_df = pd.read_csv('throughput_ratio.csv')\n",
    "ratio_df.head(2)"
   ]
  },
  {
   "cell_type": "code",
   "execution_count": 15,
   "metadata": {},
   "outputs": [
    {
     "data": {
      "text/html": [
       "<div>\n",
       "<style scoped>\n",
       "    .dataframe tbody tr th:only-of-type {\n",
       "        vertical-align: middle;\n",
       "    }\n",
       "\n",
       "    .dataframe tbody tr th {\n",
       "        vertical-align: top;\n",
       "    }\n",
       "\n",
       "    .dataframe thead th {\n",
       "        text-align: right;\n",
       "    }\n",
       "</style>\n",
       "<table border=\"1\" class=\"dataframe\">\n",
       "  <thead>\n",
       "    <tr style=\"text-align: right;\">\n",
       "      <th></th>\n",
       "      <th>Interval Ending (AEST)</th>\n",
       "      <th>BLUFF1</th>\n",
       "      <th>CLEMGPWF</th>\n",
       "      <th>HALLWF1</th>\n",
       "      <th>HALLWF2</th>\n",
       "      <th>HDWF1</th>\n",
       "      <th>HDWF2</th>\n",
       "      <th>HDWF3</th>\n",
       "      <th>LKBONNY2</th>\n",
       "      <th>LKBONNY3</th>\n",
       "      <th>NBHWF1</th>\n",
       "      <th>SNOWNTH1</th>\n",
       "      <th>SNOWSTH1</th>\n",
       "      <th>SNOWTWN1</th>\n",
       "      <th>TRLWF</th>\n",
       "      <th>WATERLWF</th>\n",
       "    </tr>\n",
       "  </thead>\n",
       "  <tbody>\n",
       "    <tr>\n",
       "      <th>0</th>\n",
       "      <td>1/1/18 0:05</td>\n",
       "      <td>13.1</td>\n",
       "      <td>2.95344</td>\n",
       "      <td>10.74</td>\n",
       "      <td>10.54</td>\n",
       "      <td>24.4</td>\n",
       "      <td>13.1</td>\n",
       "      <td>17.7</td>\n",
       "      <td>51.98349</td>\n",
       "      <td>9.88050</td>\n",
       "      <td>21.2</td>\n",
       "      <td>16.1</td>\n",
       "      <td>9.5</td>\n",
       "      <td>14.87030</td>\n",
       "      <td>12.15719</td>\n",
       "      <td>12.4</td>\n",
       "    </tr>\n",
       "    <tr>\n",
       "      <th>1</th>\n",
       "      <td>1/1/18 0:10</td>\n",
       "      <td>11.9</td>\n",
       "      <td>3.24158</td>\n",
       "      <td>13.01</td>\n",
       "      <td>10.33</td>\n",
       "      <td>22.2</td>\n",
       "      <td>13.9</td>\n",
       "      <td>17.9</td>\n",
       "      <td>42.13140</td>\n",
       "      <td>10.27125</td>\n",
       "      <td>21.7</td>\n",
       "      <td>14.9</td>\n",
       "      <td>8.6</td>\n",
       "      <td>13.64382</td>\n",
       "      <td>11.68275</td>\n",
       "      <td>11.9</td>\n",
       "    </tr>\n",
       "  </tbody>\n",
       "</table>\n",
       "</div>"
      ],
      "text/plain": [
       "  Interval Ending (AEST)  BLUFF1  CLEMGPWF  HALLWF1  HALLWF2  HDWF1  HDWF2  \\\n",
       "0            1/1/18 0:05    13.1   2.95344    10.74    10.54   24.4   13.1   \n",
       "1            1/1/18 0:10    11.9   3.24158    13.01    10.33   22.2   13.9   \n",
       "\n",
       "   HDWF3  LKBONNY2  LKBONNY3  NBHWF1  SNOWNTH1  SNOWSTH1  SNOWTWN1     TRLWF  \\\n",
       "0   17.7  51.98349   9.88050    21.2      16.1       9.5  14.87030  12.15719   \n",
       "1   17.9  42.13140  10.27125    21.7      14.9       8.6  13.64382  11.68275   \n",
       "\n",
       "   WATERLWF  \n",
       "0      12.4  \n",
       "1      11.9  "
      ]
     },
     "execution_count": 15,
     "metadata": {},
     "output_type": "execute_result"
    }
   ],
   "source": [
    "generation_df = pd.read_csv('wind_generation.csv')\n",
    "generation_df.head(2)"
   ]
  },
  {
   "cell_type": "markdown",
   "metadata": {},
   "source": [
    "It appears that the generation data and the throughput ratio awards have the same time axis, it makes sense to join the data."
   ]
  },
  {
   "cell_type": "code",
   "execution_count": 16,
   "metadata": {},
   "outputs": [],
   "source": [
    "df = ratio_df.merge(generation_df, how='right', on='Interval Ending (AEST)')\n",
    "df['Interval Ending (AEST)'] = df['Interval Ending (AEST)'].\\\n",
    "                                apply(lambda x: datetime.datetime.strptime(x, '%m/%d/%y %H:%M'))"
   ]
  },
  {
   "cell_type": "code",
   "execution_count": 17,
   "metadata": {},
   "outputs": [],
   "source": [
    "df.index = df['Interval Ending (AEST)']"
   ]
  },
  {
   "cell_type": "code",
   "execution_count": 18,
   "metadata": {},
   "outputs": [],
   "source": [
    "df.index = df.index.tz_localize('Australia/Sydney')"
   ]
  },
  {
   "cell_type": "code",
   "execution_count": 19,
   "metadata": {},
   "outputs": [],
   "source": [
    "df = df.join(downsampled_df)"
   ]
  },
  {
   "cell_type": "markdown",
   "metadata": {},
   "source": [
    "Sample the first two days in January to get a close look at what is going on"
   ]
  },
  {
   "cell_type": "code",
   "execution_count": 20,
   "metadata": {},
   "outputs": [
    {
     "data": {
      "text/plain": [
       "Index(['BLUFF1', 'CLEMGPWF', 'HALLWF1', 'HALLWF2', 'HDWF1', 'HDWF2', 'HDWF3',\n",
       "       'LKBONNY2', 'LKBONNY3', 'NBHWF1', 'SNOWNTH1', 'SNOWSTH1', 'SNOWTWN1',\n",
       "       'TRLWF', 'WATERLWF'],\n",
       "      dtype='object')"
      ]
     },
     "execution_count": 20,
     "metadata": {},
     "output_type": "execute_result"
    }
   ],
   "source": [
    "df.columns[3:18]"
   ]
  },
  {
   "cell_type": "code",
   "execution_count": 34,
   "metadata": {},
   "outputs": [
    {
     "data": {
      "text/html": [
       "<div>\n",
       "<style scoped>\n",
       "    .dataframe tbody tr th:only-of-type {\n",
       "        vertical-align: middle;\n",
       "    }\n",
       "\n",
       "    .dataframe tbody tr th {\n",
       "        vertical-align: top;\n",
       "    }\n",
       "\n",
       "    .dataframe thead th {\n",
       "        text-align: right;\n",
       "    }\n",
       "</style>\n",
       "<table border=\"1\" class=\"dataframe\">\n",
       "  <thead>\n",
       "    <tr style=\"text-align: right;\">\n",
       "      <th></th>\n",
       "      <th>Interval Ending (AEST)</th>\n",
       "      <th>Raise Throughput Ratio</th>\n",
       "      <th>Lower Throughput Ratio</th>\n",
       "      <th>BLUFF1</th>\n",
       "      <th>CLEMGPWF</th>\n",
       "      <th>HALLWF1</th>\n",
       "      <th>HALLWF2</th>\n",
       "      <th>HDWF1</th>\n",
       "      <th>HDWF2</th>\n",
       "      <th>HDWF3</th>\n",
       "      <th>...</th>\n",
       "      <th>SNOWNTH1</th>\n",
       "      <th>SNOWSTH1</th>\n",
       "      <th>SNOWTWN1</th>\n",
       "      <th>TRLWF</th>\n",
       "      <th>WATERLWF</th>\n",
       "      <th>5_min_mean_freq_hz</th>\n",
       "      <th>5_min_median_freq_hz</th>\n",
       "      <th>5_min_freq_var</th>\n",
       "      <th>avg_wind_output</th>\n",
       "      <th>var_wind_output</th>\n",
       "    </tr>\n",
       "    <tr>\n",
       "      <th>Interval Ending (AEST)</th>\n",
       "      <th></th>\n",
       "      <th></th>\n",
       "      <th></th>\n",
       "      <th></th>\n",
       "      <th></th>\n",
       "      <th></th>\n",
       "      <th></th>\n",
       "      <th></th>\n",
       "      <th></th>\n",
       "      <th></th>\n",
       "      <th></th>\n",
       "      <th></th>\n",
       "      <th></th>\n",
       "      <th></th>\n",
       "      <th></th>\n",
       "      <th></th>\n",
       "      <th></th>\n",
       "      <th></th>\n",
       "      <th></th>\n",
       "      <th></th>\n",
       "      <th></th>\n",
       "    </tr>\n",
       "  </thead>\n",
       "  <tbody>\n",
       "    <tr>\n",
       "      <th>2017-12-31 13:05:00+00:00</th>\n",
       "      <td>2018-01-01 00:05:00</td>\n",
       "      <td>NaN</td>\n",
       "      <td>NaN</td>\n",
       "      <td>13.1</td>\n",
       "      <td>2.95344</td>\n",
       "      <td>10.74</td>\n",
       "      <td>10.54</td>\n",
       "      <td>24.4</td>\n",
       "      <td>13.1</td>\n",
       "      <td>17.7</td>\n",
       "      <td>...</td>\n",
       "      <td>16.1</td>\n",
       "      <td>9.5</td>\n",
       "      <td>14.87030</td>\n",
       "      <td>12.15719</td>\n",
       "      <td>12.4</td>\n",
       "      <td>NaN</td>\n",
       "      <td>NaN</td>\n",
       "      <td>NaN</td>\n",
       "      <td>16.041661</td>\n",
       "      <td>116.566609</td>\n",
       "    </tr>\n",
       "    <tr>\n",
       "      <th>2017-12-31 13:10:00+00:00</th>\n",
       "      <td>2018-01-01 00:10:00</td>\n",
       "      <td>0.224593</td>\n",
       "      <td>NaN</td>\n",
       "      <td>11.9</td>\n",
       "      <td>3.24158</td>\n",
       "      <td>13.01</td>\n",
       "      <td>10.33</td>\n",
       "      <td>22.2</td>\n",
       "      <td>13.9</td>\n",
       "      <td>17.9</td>\n",
       "      <td>...</td>\n",
       "      <td>14.9</td>\n",
       "      <td>8.6</td>\n",
       "      <td>13.64382</td>\n",
       "      <td>11.68275</td>\n",
       "      <td>11.9</td>\n",
       "      <td>NaN</td>\n",
       "      <td>NaN</td>\n",
       "      <td>NaN</td>\n",
       "      <td>15.154053</td>\n",
       "      <td>73.435385</td>\n",
       "    </tr>\n",
       "  </tbody>\n",
       "</table>\n",
       "<p>2 rows × 23 columns</p>\n",
       "</div>"
      ],
      "text/plain": [
       "                          Interval Ending (AEST)  Raise Throughput Ratio  \\\n",
       "Interval Ending (AEST)                                                     \n",
       "2017-12-31 13:05:00+00:00    2018-01-01 00:05:00                     NaN   \n",
       "2017-12-31 13:10:00+00:00    2018-01-01 00:10:00                0.224593   \n",
       "\n",
       "                           Lower Throughput Ratio  BLUFF1  CLEMGPWF  HALLWF1  \\\n",
       "Interval Ending (AEST)                                                         \n",
       "2017-12-31 13:05:00+00:00                     NaN    13.1   2.95344    10.74   \n",
       "2017-12-31 13:10:00+00:00                     NaN    11.9   3.24158    13.01   \n",
       "\n",
       "                           HALLWF2  HDWF1  HDWF2  HDWF3       ...         \\\n",
       "Interval Ending (AEST)                                        ...          \n",
       "2017-12-31 13:05:00+00:00    10.54   24.4   13.1   17.7       ...          \n",
       "2017-12-31 13:10:00+00:00    10.33   22.2   13.9   17.9       ...          \n",
       "\n",
       "                           SNOWNTH1  SNOWSTH1  SNOWTWN1     TRLWF  WATERLWF  \\\n",
       "Interval Ending (AEST)                                                        \n",
       "2017-12-31 13:05:00+00:00      16.1       9.5  14.87030  12.15719      12.4   \n",
       "2017-12-31 13:10:00+00:00      14.9       8.6  13.64382  11.68275      11.9   \n",
       "\n",
       "                           5_min_mean_freq_hz  5_min_median_freq_hz  \\\n",
       "Interval Ending (AEST)                                                \n",
       "2017-12-31 13:05:00+00:00                 NaN                   NaN   \n",
       "2017-12-31 13:10:00+00:00                 NaN                   NaN   \n",
       "\n",
       "                           5_min_freq_var  avg_wind_output  var_wind_output  \n",
       "Interval Ending (AEST)                                                       \n",
       "2017-12-31 13:05:00+00:00             NaN        16.041661       116.566609  \n",
       "2017-12-31 13:10:00+00:00             NaN        15.154053        73.435385  \n",
       "\n",
       "[2 rows x 23 columns]"
      ]
     },
     "execution_count": 34,
     "metadata": {},
     "output_type": "execute_result"
    }
   ],
   "source": [
    "df['avg_wind_output'] = df[df.columns[3:-3]].apply(lambda x: np.mean(x), axis=1)\n",
    "df['var_wind_output']= df[df.columns[3:18]].apply(lambda x: np.var(x), axis=1)\n",
    "df.head(2)"
   ]
  },
  {
   "cell_type": "code",
   "execution_count": 36,
   "metadata": {},
   "outputs": [],
   "source": [
    "sample = df.loc[df['Interval Ending (AEST)'] < datetime.date(2018, 1, 3)]"
   ]
  },
  {
   "cell_type": "code",
   "execution_count": null,
   "metadata": {},
   "outputs": [],
   "source": []
  },
  {
   "cell_type": "code",
   "execution_count": 60,
   "metadata": {},
   "outputs": [
    {
     "data": {
      "text/plain": [
       "<matplotlib.axes._subplots.AxesSubplot at 0x10f354550>"
      ]
     },
     "execution_count": 60,
     "metadata": {},
     "output_type": "execute_result"
    },
    {
     "data": {
      "image/png": "[encoded data removed]",
      "text/plain": [
       "<Figure size 864x288 with 1 Axes>"
      ]
     },
     "metadata": {},
     "output_type": "display_data"
    }
   ],
   "source": [
    "sample[['Raise Throughput Ratio', 'Lower Throughput Ratio']].plot(figsize=(12, 4))"
   ]
  },
  {
   "cell_type": "code",
   "execution_count": 38,
   "metadata": {},
   "outputs": [
    {
     "data": {
      "text/plain": [
       "<matplotlib.axes._subplots.AxesSubplot at 0x109c69668>"
      ]
     },
     "execution_count": 38,
     "metadata": {},
     "output_type": "execute_result"
    },
    {
     "data": {
      "image/png": "[encoded data removed]",
      "text/plain": [
       "<Figure size 864x288 with 1 Axes>"
      ]
     },
     "metadata": {},
     "output_type": "display_data"
    }
   ],
   "source": [
    "sample['5_min_mean_freq_hz'].plot(figsize=(12,4))"
   ]
  },
  {
   "cell_type": "code",
   "execution_count": 39,
   "metadata": {},
   "outputs": [
    {
     "data": {
      "text/plain": [
       "<matplotlib.axes._subplots.AxesSubplot at 0x10e11e470>"
      ]
     },
     "execution_count": 39,
     "metadata": {},
     "output_type": "execute_result"
    },
    {
     "data": {
      "image/png": "[encoded data removed]",
      "text/plain": [
       "<Figure size 864x288 with 1 Axes>"
      ]
     },
     "metadata": {},
     "output_type": "display_data"
    }
   ],
   "source": [
    "sample['5_min_freq_var'].plot(figsize=(12,4))"
   ]
  },
  {
   "cell_type": "code",
   "execution_count": 40,
   "metadata": {},
   "outputs": [
    {
     "data": {
      "text/plain": [
       "<matplotlib.axes._subplots.AxesSubplot at 0x10e1900f0>"
      ]
     },
     "execution_count": 40,
     "metadata": {},
     "output_type": "execute_result"
    },
    {
     "data": {
      "image/png": "[encoded data removed]",
      "text/plain": [
       "<Figure size 864x288 with 1 Axes>"
      ]
     },
     "metadata": {},
     "output_type": "display_data"
    }
   ],
   "source": [
    "sample['avg_wind_output'].plot(figsize=(12,4))"
   ]
  },
  {
   "cell_type": "markdown",
   "metadata": {},
   "source": [
    "#### Part 2a: Observations\n",
    "- The frequency data had holes for several values of frequency. This could be caused by a firmware issue. The impact to the model is likely small since the data is being low-pass filtered; but, it could have implications for the battery hardware\n",
    "- It looks like there is a clear increase in wind power in the evenings starting at 5pm. Which is followed by more lower throughput ratio\n",
    "- The periodicity of the data is approximately one day\n",
    "- The signal that we are trying to predict appears to be stationary. Meaning that it is not tredning up or down. We can set the ARIMA d=0"
   ]
  },
  {
   "cell_type": "markdown",
   "metadata": {},
   "source": [
    "## Model"
   ]
  },
  {
   "cell_type": "markdown",
   "metadata": {},
   "source": [
    "\n",
    "The benefit of this model is that the model has \n",
    "\n",
    "Candidate models:\n",
    "- Linear regression\n",
    "- \n",
    "\n",
    "Plan:\n",
    "- use model\n",
    "- evaluate results on second to last week"
   ]
  },
  {
   "cell_type": "markdown",
   "metadata": {},
   "source": [
    "I will merge the raise throughput ratio and lower throughput ratio into one column where the lower throughput ratio is a negative value. This will make predictions a little easier"
   ]
  },
  {
   "cell_type": "code",
   "execution_count": 41,
   "metadata": {},
   "outputs": [],
   "source": [
    "def condense_ratio(row):\n",
    "    if (np.isnan(row['Raise Throughput Ratio'])) & (np.isnan(row['Lower Throughput Ratio'])):\n",
    "        result = 0\n",
    "    elif np.isnan(row['Raise Throughput Ratio']):\n",
    "        result = row['Lower Throughput Ratio'] * (-1)\n",
    "    else:\n",
    "        result = row['Raise Throughput Ratio']\n",
    "    return result"
   ]
  },
  {
   "cell_type": "code",
   "execution_count": 42,
   "metadata": {},
   "outputs": [],
   "source": [
    "df['output'] = df.apply(condense_ratio, axis=1)"
   ]
  },
  {
   "cell_type": "code",
   "execution_count": 43,
   "metadata": {},
   "outputs": [
    {
     "data": {
      "text/html": [
       "<div>\n",
       "<style scoped>\n",
       "    .dataframe tbody tr th:only-of-type {\n",
       "        vertical-align: middle;\n",
       "    }\n",
       "\n",
       "    .dataframe tbody tr th {\n",
       "        vertical-align: top;\n",
       "    }\n",
       "\n",
       "    .dataframe thead th {\n",
       "        text-align: right;\n",
       "    }\n",
       "</style>\n",
       "<table border=\"1\" class=\"dataframe\">\n",
       "  <thead>\n",
       "    <tr style=\"text-align: right;\">\n",
       "      <th></th>\n",
       "      <th>Interval Ending (AEST)</th>\n",
       "      <th>Raise Throughput Ratio</th>\n",
       "      <th>Lower Throughput Ratio</th>\n",
       "      <th>BLUFF1</th>\n",
       "      <th>CLEMGPWF</th>\n",
       "      <th>HALLWF1</th>\n",
       "      <th>HALLWF2</th>\n",
       "      <th>HDWF1</th>\n",
       "      <th>HDWF2</th>\n",
       "      <th>HDWF3</th>\n",
       "      <th>...</th>\n",
       "      <th>SNOWSTH1</th>\n",
       "      <th>SNOWTWN1</th>\n",
       "      <th>TRLWF</th>\n",
       "      <th>WATERLWF</th>\n",
       "      <th>5_min_mean_freq_hz</th>\n",
       "      <th>5_min_median_freq_hz</th>\n",
       "      <th>5_min_freq_var</th>\n",
       "      <th>avg_wind_output</th>\n",
       "      <th>var_wind_output</th>\n",
       "      <th>output</th>\n",
       "    </tr>\n",
       "    <tr>\n",
       "      <th>Interval Ending (AEST)</th>\n",
       "      <th></th>\n",
       "      <th></th>\n",
       "      <th></th>\n",
       "      <th></th>\n",
       "      <th></th>\n",
       "      <th></th>\n",
       "      <th></th>\n",
       "      <th></th>\n",
       "      <th></th>\n",
       "      <th></th>\n",
       "      <th></th>\n",
       "      <th></th>\n",
       "      <th></th>\n",
       "      <th></th>\n",
       "      <th></th>\n",
       "      <th></th>\n",
       "      <th></th>\n",
       "      <th></th>\n",
       "      <th></th>\n",
       "      <th></th>\n",
       "      <th></th>\n",
       "    </tr>\n",
       "  </thead>\n",
       "  <tbody>\n",
       "    <tr>\n",
       "      <th>2017-12-31 13:05:00+00:00</th>\n",
       "      <td>2018-01-01 00:05:00</td>\n",
       "      <td>NaN</td>\n",
       "      <td>NaN</td>\n",
       "      <td>13.1</td>\n",
       "      <td>2.95344</td>\n",
       "      <td>10.74</td>\n",
       "      <td>10.54</td>\n",
       "      <td>24.4</td>\n",
       "      <td>13.1</td>\n",
       "      <td>17.7</td>\n",
       "      <td>...</td>\n",
       "      <td>9.5</td>\n",
       "      <td>14.87030</td>\n",
       "      <td>12.15719</td>\n",
       "      <td>12.4</td>\n",
       "      <td>NaN</td>\n",
       "      <td>NaN</td>\n",
       "      <td>NaN</td>\n",
       "      <td>16.041661</td>\n",
       "      <td>116.566609</td>\n",
       "      <td>0.000000</td>\n",
       "    </tr>\n",
       "    <tr>\n",
       "      <th>2017-12-31 13:10:00+00:00</th>\n",
       "      <td>2018-01-01 00:10:00</td>\n",
       "      <td>0.224593</td>\n",
       "      <td>NaN</td>\n",
       "      <td>11.9</td>\n",
       "      <td>3.24158</td>\n",
       "      <td>13.01</td>\n",
       "      <td>10.33</td>\n",
       "      <td>22.2</td>\n",
       "      <td>13.9</td>\n",
       "      <td>17.9</td>\n",
       "      <td>...</td>\n",
       "      <td>8.6</td>\n",
       "      <td>13.64382</td>\n",
       "      <td>11.68275</td>\n",
       "      <td>11.9</td>\n",
       "      <td>NaN</td>\n",
       "      <td>NaN</td>\n",
       "      <td>NaN</td>\n",
       "      <td>15.154053</td>\n",
       "      <td>73.435385</td>\n",
       "      <td>0.224593</td>\n",
       "    </tr>\n",
       "  </tbody>\n",
       "</table>\n",
       "<p>2 rows × 24 columns</p>\n",
       "</div>"
      ],
      "text/plain": [
       "                          Interval Ending (AEST)  Raise Throughput Ratio  \\\n",
       "Interval Ending (AEST)                                                     \n",
       "2017-12-31 13:05:00+00:00    2018-01-01 00:05:00                     NaN   \n",
       "2017-12-31 13:10:00+00:00    2018-01-01 00:10:00                0.224593   \n",
       "\n",
       "                           Lower Throughput Ratio  BLUFF1  CLEMGPWF  HALLWF1  \\\n",
       "Interval Ending (AEST)                                                         \n",
       "2017-12-31 13:05:00+00:00                     NaN    13.1   2.95344    10.74   \n",
       "2017-12-31 13:10:00+00:00                     NaN    11.9   3.24158    13.01   \n",
       "\n",
       "                           HALLWF2  HDWF1  HDWF2  HDWF3    ...     SNOWSTH1  \\\n",
       "Interval Ending (AEST)                                     ...                \n",
       "2017-12-31 13:05:00+00:00    10.54   24.4   13.1   17.7    ...          9.5   \n",
       "2017-12-31 13:10:00+00:00    10.33   22.2   13.9   17.9    ...          8.6   \n",
       "\n",
       "                           SNOWTWN1     TRLWF  WATERLWF  5_min_mean_freq_hz  \\\n",
       "Interval Ending (AEST)                                                        \n",
       "2017-12-31 13:05:00+00:00  14.87030  12.15719      12.4                 NaN   \n",
       "2017-12-31 13:10:00+00:00  13.64382  11.68275      11.9                 NaN   \n",
       "\n",
       "                           5_min_median_freq_hz  5_min_freq_var  \\\n",
       "Interval Ending (AEST)                                            \n",
       "2017-12-31 13:05:00+00:00                   NaN             NaN   \n",
       "2017-12-31 13:10:00+00:00                   NaN             NaN   \n",
       "\n",
       "                           avg_wind_output  var_wind_output    output  \n",
       "Interval Ending (AEST)                                                 \n",
       "2017-12-31 13:05:00+00:00        16.041661       116.566609  0.000000  \n",
       "2017-12-31 13:10:00+00:00        15.154053        73.435385  0.224593  \n",
       "\n",
       "[2 rows x 24 columns]"
      ]
     },
     "execution_count": 43,
     "metadata": {},
     "output_type": "execute_result"
    }
   ],
   "source": [
    "df.head(2)"
   ]
  },
  {
   "cell_type": "code",
   "execution_count": 44,
   "metadata": {},
   "outputs": [
    {
     "data": {
      "text/plain": [
       "Index(['Interval Ending (AEST)', 'Raise Throughput Ratio',\n",
       "       'Lower Throughput Ratio', 'BLUFF1', 'CLEMGPWF', 'HALLWF1', 'HALLWF2',\n",
       "       'HDWF1', 'HDWF2', 'HDWF3', 'LKBONNY2', 'LKBONNY3', 'NBHWF1', 'SNOWNTH1',\n",
       "       'SNOWSTH1', 'SNOWTWN1', 'TRLWF', 'WATERLWF', '5_min_mean_freq_hz',\n",
       "       '5_min_median_freq_hz', '5_min_freq_var', 'avg_wind_output',\n",
       "       'var_wind_output', 'output'],\n",
       "      dtype='object')"
      ]
     },
     "execution_count": 44,
     "metadata": {},
     "output_type": "execute_result"
    }
   ],
   "source": [
    "model_df = df\n",
    "model_df.columns"
   ]
  },
  {
   "cell_type": "code",
   "execution_count": 46,
   "metadata": {},
   "outputs": [],
   "source": [
    "model_df = df.drop(['Raise Throughput Ratio', 'Lower Throughput Ratio'],\n",
    "                  axis=1)"
   ]
  },
  {
   "cell_type": "markdown",
   "metadata": {},
   "source": [
    "#### Add one-hot columns for the hour"
   ]
  },
  {
   "cell_type": "code",
   "execution_count": 47,
   "metadata": {},
   "outputs": [],
   "source": [
    "model_df = model_df.fillna(0)\n",
    "model_df['hour'] = model_df['Interval Ending (AEST)'].apply(lambda x: x.hour)\n",
    "model_df = model_df.drop(['Interval Ending (AEST)'], axis=1)"
   ]
  },
  {
   "cell_type": "code",
   "execution_count": 48,
   "metadata": {},
   "outputs": [],
   "source": [
    "import dateutil.parser"
   ]
  },
  {
   "cell_type": "code",
   "execution_count": 49,
   "metadata": {},
   "outputs": [],
   "source": [
    "train_df = model_df.loc[model_df.index < dateutil.parser.parse('2018-02-01')]\n",
    "\n",
    "cv_df = model_df.loc[(model_df.index > dateutil.parser.parse('2018-02-01')) &\n",
    "                     (model_df.index < dateutil.parser.parse('2018-02-10'))\n",
    "                    ]\n",
    "test_df = model_df.loc[(model_df.index > dateutil.parser.parse('2018-02-10')) &\n",
    "                       (model_df.index < dateutil.parser.parse('2018-02-20'))]"
   ]
  },
  {
   "cell_type": "code",
   "execution_count": 50,
   "metadata": {},
   "outputs": [
    {
     "data": {
      "text/plain": [
       "Index(['BLUFF1', 'CLEMGPWF', 'HALLWF1', 'HALLWF2', 'HDWF1', 'HDWF2', 'HDWF3',\n",
       "       'LKBONNY2', 'LKBONNY3', 'NBHWF1', 'SNOWNTH1', 'SNOWSTH1', 'SNOWTWN1',\n",
       "       'TRLWF', 'WATERLWF', '5_min_mean_freq_hz', '5_min_median_freq_hz',\n",
       "       '5_min_freq_var', 'avg_wind_output', 'var_wind_output', 'output',\n",
       "       'hour'],\n",
       "      dtype='object')"
      ]
     },
     "execution_count": 50,
     "metadata": {},
     "output_type": "execute_result"
    }
   ],
   "source": [
    "train_df.columns"
   ]
  },
  {
   "cell_type": "markdown",
   "metadata": {},
   "source": [
    "## Model"
   ]
  },
  {
   "cell_type": "code",
   "execution_count": 51,
   "metadata": {},
   "outputs": [],
   "source": [
    "from sklearn.metrics import mean_squared_error, make_scorer, mean_absolute_error\n",
    "from sklearn.model_selection import learning_curve, GridSearchCV"
   ]
  },
  {
   "cell_type": "markdown",
   "metadata": {},
   "source": [
    "### Helpers"
   ]
  },
  {
   "cell_type": "code",
   "execution_count": 52,
   "metadata": {},
   "outputs": [],
   "source": [
    "def plot_feature_importance(clf, x):\n",
    "    feature_importance = clf.feature_importances_\n",
    "    # make importances relative to max importance\n",
    "    feature_importance = 100.0 * (feature_importance / feature_importance.max())\n",
    "    sorted_idx = np.argsort(feature_importance)\n",
    "    pos = np.arange(sorted_idx.shape[0]) + .5\n",
    "    plt.subplot(1, 2, 2)\n",
    "    plt.barh(pos, feature_importance[sorted_idx], align='center')\n",
    "    plt.yticks(pos, x.columns[sorted_idx])\n",
    "    plt.xlabel('Relative Importance')\n",
    "    plt.title('Variable Importance')\n",
    "    plt.show()    "
   ]
  },
  {
   "cell_type": "markdown",
   "metadata": {},
   "source": [
    "### Gradient Boosted"
   ]
  },
  {
   "cell_type": "code",
   "execution_count": 53,
   "metadata": {},
   "outputs": [],
   "source": [
    "from sklearn.ensemble import GradientBoostingRegressor, AdaBoostRegressor\n",
    "X_train = train_df.drop(['output'], axis=1)\n",
    "X_test = cv_df.drop(['output'], axis=1)\n",
    "y_train = train_df['output']\n",
    "y_test = cv_df['output']"
   ]
  },
  {
   "cell_type": "code",
   "execution_count": 54,
   "metadata": {},
   "outputs": [],
   "source": [
    "gbr = GradientBoostingRegressor(n_estimators=100,\n",
    "                                learning_rate=0.1,\n",
    "                                max_depth=1,\n",
    "                                random_state=42,\n",
    "                                loss='ls')\n",
    "gbr_model = gbr.fit(X_train, y_train)"
   ]
  },
  {
   "cell_type": "code",
   "execution_count": 55,
   "metadata": {},
   "outputs": [
    {
     "data": {
      "text/plain": [
       "0.07983115919723097"
      ]
     },
     "execution_count": 55,
     "metadata": {},
     "output_type": "execute_result"
    }
   ],
   "source": [
    "mean_squared_error(y_test, gbr.predict(X_test))"
   ]
  },
  {
   "cell_type": "code",
   "execution_count": 56,
   "metadata": {},
   "outputs": [
    {
     "data": {
      "text/plain": [
       "0.1939925464120787"
      ]
     },
     "execution_count": 56,
     "metadata": {},
     "output_type": "execute_result"
    }
   ],
   "source": [
    "mean_absolute_error(y_test, gbr.predict(X_test))"
   ]
  },
  {
   "cell_type": "code",
   "execution_count": 57,
   "metadata": {},
   "outputs": [
    {
     "data": {
      "text/plain": [
       "<matplotlib.legend.Legend at 0x10f5896d8>"
      ]
     },
     "execution_count": 57,
     "metadata": {},
     "output_type": "execute_result"
    },
    {
     "data": {
      "image/png": "[encoded data removed]",
      "text/plain": [
       "<Figure size 432x288 with 1 Axes>"
      ]
     },
     "metadata": {},
     "output_type": "display_data"
    }
   ],
   "source": [
    "train_sizes, train_scores, test_scores =learning_curve(gbr, \n",
    "                                                       X_train, \n",
    "                                                       y_train, \n",
    "                                                       cv=2, \n",
    "                                                       scoring=make_scorer(mean_squared_error))\n",
    "\n",
    "plt.plot(train_sizes, train_scores.mean(axis=1), label='train')\n",
    "plt.plot(train_sizes, test_scores.mean(axis=1), label='test')\n",
    "plt.legend()"
   ]
  },
  {
   "cell_type": "markdown",
   "metadata": {},
   "source": [
    "Based on the learning curve, we are under-fitting. We can afford to add new features"
   ]
  },
  {
   "cell_type": "code",
   "execution_count": 58,
   "metadata": {},
   "outputs": [
    {
     "data": {
      "image/png": "[encoded data removed]",
      "text/plain": [
       "<Figure size 432x288 with 1 Axes>"
      ]
     },
     "metadata": {},
     "output_type": "display_data"
    }
   ],
   "source": [
    "plot_feature_importance(gbr_model, X_train)"
   ]
  },
  {
   "cell_type": "code",
   "execution_count": 76,
   "metadata": {},
   "outputs": [
    {
     "data": {
      "text/plain": [
       "0.07983115919723097"
      ]
     },
     "execution_count": 76,
     "metadata": {},
     "output_type": "execute_result"
    }
   ],
   "source": [
    "gbr_mae = GradientBoostingRegressor(n_estimators=100,\n",
    "                                learning_rate=0.1,\n",
    "                                max_depth=1,\n",
    "                                random_state=42,\n",
    "                                loss='ls', criterion='mae', \n",
    "                                warm_start=True)\n",
    "gbr_mae_model = gbr.fit(X_train, y_train)\n",
    "mean_squared_error(y_test, gbr_mae_model.predict(X_test))"
   ]
  },
  {
   "cell_type": "code",
   "execution_count": 77,
   "metadata": {},
   "outputs": [],
   "source": [
    "param_grid = {'n_estimators':[100, 200, 300],\n",
    "              'max_depth': [1,3,5]}\n",
    "grid_search = GridSearchCV(gbr, \n",
    "             param_grid=param_grid, \n",
    "             scoring ='neg_mean_absolute_error',\n",
    "             cv=2)"
   ]
  },
  {
   "cell_type": "code",
   "execution_count": 62,
   "metadata": {},
   "outputs": [
    {
     "data": {
      "text/plain": [
       "GridSearchCV(cv=2, error_score='raise',\n",
       "       estimator=GradientBoostingRegressor(alpha=0.9, criterion='friedman_mse', init=None,\n",
       "             learning_rate=0.1, loss='ls', max_depth=1, max_features=None,\n",
       "             max_leaf_nodes=None, min_impurity_decrease=0.0,\n",
       "             min_impurity_split=None, min_samples_leaf=1,\n",
       "             min_samples_split=2, min_weight_fraction_leaf=0.0,\n",
       "             n_estimators=100, presort='auto', random_state=42,\n",
       "             subsample=1.0, verbose=0, warm_start=False),\n",
       "       fit_params=None, iid=True, n_jobs=1,\n",
       "       param_grid={'n_estimators': [100, 200, 300], 'max_depth': [1, 3, 5]},\n",
       "       pre_dispatch='2*n_jobs', refit=True, return_train_score='warn',\n",
       "       scoring='neg_mean_absolute_error', verbose=0)"
      ]
     },
     "execution_count": 62,
     "metadata": {},
     "output_type": "execute_result"
    }
   ],
   "source": [
    "grid_search.fit(X_train, y_train)"
   ]
  },
  {
   "cell_type": "code",
   "execution_count": 63,
   "metadata": {},
   "outputs": [
    {
     "name": "stdout",
     "output_type": "stream",
     "text": [
      "{'max_depth': 1, 'n_estimators': 100} -0.24271250411539336\n"
     ]
    }
   ],
   "source": [
    "print(grid_search.best_params_, grid_search.best_score_)"
   ]
  },
  {
   "cell_type": "markdown",
   "metadata": {},
   "source": [
    "Clearly time is a very important factor. Use fbprophet to create  fit daily variation with a Fourier time series"
   ]
  },
  {
   "cell_type": "markdown",
   "metadata": {},
   "source": [
    "### Gradient boosted with seasonality model"
   ]
  },
  {
   "cell_type": "code",
   "execution_count": null,
   "metadata": {},
   "outputs": [],
   "source": [
    "from fbprophet import Prophet"
   ]
  },
  {
   "cell_type": "code",
   "execution_count": null,
   "metadata": {},
   "outputs": [],
   "source": [
    "model = Prophet(changepoints=None, \n",
    "                yearly_seasonality=False, \n",
    "                weekly_seasonality=False,\n",
    "                daily_seasonality=True,\n",
    "                seasonality_prior_scale=10,\n",
    "                uncertainty_samples=10)"
   ]
  },
  {
   "cell_type": "code",
   "execution_count": null,
   "metadata": {},
   "outputs": [],
   "source": [
    "prophet_df = df.drop(['Raise Throughput Ratio', 'Lower Throughput Ratio'],\n",
    "                  axis=1)\n",
    "prophet_df = prophet_df[['Interval Ending (AEST)', 'output']]\n",
    "prophet_df = prophet_df.rename({'Interval Ending (AEST)': 'ds',\n",
    "                                'output': 'y'}, axis=1).reset_index()\n",
    "prophet_df = prophet_df.drop(['Interval Ending (AEST)'], axis=1)\n",
    "prophet_df = prophet_df.loc[prophet_df.ds < dateutil.parser.parse('2018-02-21')]\n",
    "prophet_df.tail(2)"
   ]
  },
  {
   "cell_type": "code",
   "execution_count": null,
   "metadata": {},
   "outputs": [],
   "source": [
    "fb_model = model.fit(prophet_df)"
   ]
  },
  {
   "cell_type": "code",
   "execution_count": null,
   "metadata": {},
   "outputs": [],
   "source": [
    "daily_trend = fb_model.predict(prophet_df)"
   ]
  },
  {
   "cell_type": "code",
   "execution_count": null,
   "metadata": {},
   "outputs": [],
   "source": [
    "daily_trend.index = daily_trend.ds.dt.tz_localize('Australia/Sydney')\n",
    "daily_trend.index = daily_trend.index.tz_convert('UTC')"
   ]
  },
  {
   "cell_type": "code",
   "execution_count": null,
   "metadata": {},
   "outputs": [],
   "source": [
    "train_df_fb = pd.concat([daily_trend['yhat'], train_df], join='inner', axis=1)\n",
    "cv_df_fb = pd.concat([daily_trend['yhat'], cv_df], join='inner', axis=1)"
   ]
  },
  {
   "cell_type": "code",
   "execution_count": null,
   "metadata": {},
   "outputs": [],
   "source": [
    "X_train = train_df_fb.drop(['output'], axis=1)\n",
    "X_test = cv_df_fb.drop(['output'], axis=1)\n",
    "y_train = train_df['output']\n",
    "y_test = cv_df['output']"
   ]
  },
  {
   "cell_type": "code",
   "execution_count": null,
   "metadata": {},
   "outputs": [],
   "source": [
    "gbr_fb_model = gbr.fit(X_train, y_train)"
   ]
  },
  {
   "cell_type": "code",
   "execution_count": null,
   "metadata": {},
   "outputs": [],
   "source": [
    "X_test.shape"
   ]
  },
  {
   "cell_type": "code",
   "execution_count": null,
   "metadata": {},
   "outputs": [],
   "source": [
    "y_test.shape"
   ]
  },
  {
   "cell_type": "code",
   "execution_count": null,
   "metadata": {},
   "outputs": [],
   "source": [
    "mean_squared_error(y_test, gbr.predict(X_test))"
   ]
  },
  {
   "cell_type": "code",
   "execution_count": null,
   "metadata": {},
   "outputs": [],
   "source": [
    "mean_absolute_error(y_test, gbr.predict(X_test))"
   ]
  },
  {
   "cell_type": "markdown",
   "metadata": {},
   "source": [
    "Interesting that adding periodicity to the model does not add much."
   ]
  },
  {
   "cell_type": "code",
   "execution_count": null,
   "metadata": {},
   "outputs": [],
   "source": [
    "plot_feature_importance(gbr_model, X_train)"
   ]
  },
  {
   "cell_type": "code",
   "execution_count": null,
   "metadata": {},
   "outputs": [],
   "source": [
    "train_sizes, train_scores, test_scores =learning_curve(gbr, \n",
    "                                                       X_train, \n",
    "                                                       y_train, \n",
    "                                                       cv=2, \n",
    "                                                       scoring=make_scorer(mean_squared_error))\n",
    "plt.plot(train_sizes, train_scores.mean(axis=1), label='train')\n",
    "plt.plot(train_sizes, test_scores.mean(axis=1), label='test')\n",
    "plt.legend()"
   ]
  },
  {
   "cell_type": "markdown",
   "metadata": {},
   "source": [
    "### First degree derivative \n",
    "Since we are acting in response to a rapidly changing output. Take the the derivative of each of the features (except hour) as a factor for the model."
   ]
  },
  {
   "cell_type": "code",
   "execution_count": 89,
   "metadata": {},
   "outputs": [],
   "source": [
    "first_dt_x = model_df.drop(['output', 'hour'], axis=1)\n",
    "first_ma = first_dt_x.rolling(window=2, center=False).mean()\n",
    "first_dt_x = first_dt_x.diff()\n",
    "second_dt_x = first_dt_x.diff()\n",
    "dt_model = model_df.join(first_ma, rsuffix = '_ma2', how='left')\n",
    "dt_model = dt_model.join(first_dt_x, rsuffix = '_dt', how='left')\n",
    "dt_model = dt_model.join(second_dt_x, rsuffix = '_dt2', how='left')"
   ]
  },
  {
   "cell_type": "code",
   "execution_count": 90,
   "metadata": {},
   "outputs": [
    {
     "data": {
      "text/plain": [
       "Index(['BLUFF1', 'CLEMGPWF', 'HALLWF1', 'HALLWF2', 'HDWF1', 'HDWF2', 'HDWF3',\n",
       "       'LKBONNY2', 'LKBONNY3', 'NBHWF1', 'SNOWNTH1', 'SNOWSTH1', 'SNOWTWN1',\n",
       "       'TRLWF', 'WATERLWF', '5_min_mean_freq_hz', '5_min_median_freq_hz',\n",
       "       '5_min_freq_var', 'avg_wind_output', 'var_wind_output', 'output',\n",
       "       'hour', 'BLUFF1_ma2', 'CLEMGPWF_ma2', 'HALLWF1_ma2', 'HALLWF2_ma2',\n",
       "       'HDWF1_ma2', 'HDWF2_ma2', 'HDWF3_ma2', 'LKBONNY2_ma2', 'LKBONNY3_ma2',\n",
       "       'NBHWF1_ma2', 'SNOWNTH1_ma2', 'SNOWSTH1_ma2', 'SNOWTWN1_ma2',\n",
       "       'TRLWF_ma2', 'WATERLWF_ma2', '5_min_mean_freq_hz_ma2',\n",
       "       '5_min_median_freq_hz_ma2', '5_min_freq_var_ma2', 'avg_wind_output_ma2',\n",
       "       'var_wind_output_ma2', 'BLUFF1_dt', 'CLEMGPWF_dt', 'HALLWF1_dt',\n",
       "       'HALLWF2_dt', 'HDWF1_dt', 'HDWF2_dt', 'HDWF3_dt', 'LKBONNY2_dt',\n",
       "       'LKBONNY3_dt', 'NBHWF1_dt', 'SNOWNTH1_dt', 'SNOWSTH1_dt', 'SNOWTWN1_dt',\n",
       "       'TRLWF_dt', 'WATERLWF_dt', '5_min_mean_freq_hz_dt',\n",
       "       '5_min_median_freq_hz_dt', '5_min_freq_var_dt', 'avg_wind_output_dt',\n",
       "       'var_wind_output_dt', 'BLUFF1_dt2', 'CLEMGPWF_dt2', 'HALLWF1_dt2',\n",
       "       'HALLWF2_dt2', 'HDWF1_dt2', 'HDWF2_dt2', 'HDWF3_dt2', 'LKBONNY2_dt2',\n",
       "       'LKBONNY3_dt2', 'NBHWF1_dt2', 'SNOWNTH1_dt2', 'SNOWSTH1_dt2',\n",
       "       'SNOWTWN1_dt2', 'TRLWF_dt2', 'WATERLWF_dt2', '5_min_mean_freq_hz_dt2',\n",
       "       '5_min_median_freq_hz_dt2', '5_min_freq_var_dt2', 'avg_wind_output_dt2',\n",
       "       'var_wind_output_dt2'],\n",
       "      dtype='object')"
      ]
     },
     "execution_count": 90,
     "metadata": {},
     "output_type": "execute_result"
    }
   ],
   "source": [
    "dt_model.columns"
   ]
  },
  {
   "cell_type": "code",
   "execution_count": 91,
   "metadata": {},
   "outputs": [],
   "source": [
    "train_dt = dt_model.loc[dt_model.index < dateutil.parser.parse('2018-02-01')]\n",
    "train_dt = train_dt.iloc[2:]\n",
    "cv_dt = dt_model.loc[(dt_model.index > dateutil.parser.parse('2018-02-01')) &\n",
    "                     (dt_model.index < dateutil.parser.parse('2018-02-10'))\n",
    "                    ]\n",
    "test_dt = dt_model.loc[(dt_model.index > dateutil.parser.parse('2018-02-10')) &\n",
    "                       (dt_model.index < dateutil.parser.parse('2018-02-20'))]"
   ]
  },
  {
   "cell_type": "code",
   "execution_count": 92,
   "metadata": {},
   "outputs": [],
   "source": [
    "X_train_dt = train_dt.drop(['output'], axis=1)\n",
    "X_test_dt = cv_dt.drop(['output'], axis=1)\n",
    "y_train_dt = train_dt['output']\n",
    "y_test_dt = cv_dt['output']"
   ]
  },
  {
   "cell_type": "code",
   "execution_count": 93,
   "metadata": {},
   "outputs": [],
   "source": [
    "gbr_dt = gbr.fit(X_train_dt, y_train_dt)"
   ]
  },
  {
   "cell_type": "code",
   "execution_count": 94,
   "metadata": {},
   "outputs": [
    {
     "data": {
      "text/plain": [
       "0.07902886776467948"
      ]
     },
     "execution_count": 94,
     "metadata": {},
     "output_type": "execute_result"
    }
   ],
   "source": [
    "mean_squared_error(y_test_dt, gbr_dt.predict(X_test_dt))"
   ]
  },
  {
   "cell_type": "code",
   "execution_count": 95,
   "metadata": {},
   "outputs": [
    {
     "data": {
      "text/plain": [
       "0.1924556186836476"
      ]
     },
     "execution_count": 95,
     "metadata": {},
     "output_type": "execute_result"
    }
   ],
   "source": [
    "mean_absolute_error(y_test_dt, gbr_dt.predict(X_test_dt))"
   ]
  },
  {
   "cell_type": "code",
   "execution_count": 96,
   "metadata": {},
   "outputs": [
    {
     "ename": "ValueError",
     "evalue": "Number of features of the model must match the input. Model n_features is 61 and input n_features is 81 ",
     "output_type": "error",
     "traceback": [
      "\u001b[0;31m---------------------------------------------------------------------------\u001b[0m",
      "\u001b[0;31mValueError\u001b[0m                                Traceback (most recent call last)",
      "\u001b[0;32m<ipython-input-96-a518bcd57b3b>\u001b[0m in \u001b[0;36m<module>\u001b[0;34m()\u001b[0m\n\u001b[0;32m----> 1\u001b[0;31m \u001b[0mgbr_mae_model\u001b[0m \u001b[0;34m=\u001b[0m \u001b[0mgbr_mae\u001b[0m\u001b[0;34m.\u001b[0m\u001b[0mfit\u001b[0m\u001b[0;34m(\u001b[0m\u001b[0mX_train_dt\u001b[0m\u001b[0;34m,\u001b[0m \u001b[0my_train_dt\u001b[0m\u001b[0;34m)\u001b[0m\u001b[0;34m\u001b[0m\u001b[0m\n\u001b[0m\u001b[1;32m      2\u001b[0m \u001b[0mmean_squared_error\u001b[0m\u001b[0;34m(\u001b[0m\u001b[0my_test_dt\u001b[0m\u001b[0;34m,\u001b[0m \u001b[0mgbr_mae_model\u001b[0m\u001b[0;34m.\u001b[0m\u001b[0mpredict\u001b[0m\u001b[0;34m(\u001b[0m\u001b[0mX_test_dt\u001b[0m\u001b[0;34m)\u001b[0m\u001b[0;34m)\u001b[0m\u001b[0;34m\u001b[0m\u001b[0m\n",
      "\u001b[0;32m~/Documents/markets_challenge/v3/lib/python3.6/site-packages/sklearn/ensemble/gradient_boosting.py\u001b[0m in \u001b[0;36mfit\u001b[0;34m(self, X, y, sample_weight, monitor)\u001b[0m\n\u001b[1;32m   1011\u001b[0m                                     self.estimators_.shape[0]))\n\u001b[1;32m   1012\u001b[0m             \u001b[0mbegin_at_stage\u001b[0m \u001b[0;34m=\u001b[0m \u001b[0mself\u001b[0m\u001b[0;34m.\u001b[0m\u001b[0mestimators_\u001b[0m\u001b[0;34m.\u001b[0m\u001b[0mshape\u001b[0m\u001b[0;34m[\u001b[0m\u001b[0;36m0\u001b[0m\u001b[0;34m]\u001b[0m\u001b[0;34m\u001b[0m\u001b[0m\n\u001b[0;32m-> 1013\u001b[0;31m             \u001b[0my_pred\u001b[0m \u001b[0;34m=\u001b[0m \u001b[0mself\u001b[0m\u001b[0;34m.\u001b[0m\u001b[0m_decision_function\u001b[0m\u001b[0;34m(\u001b[0m\u001b[0mX\u001b[0m\u001b[0;34m)\u001b[0m\u001b[0;34m\u001b[0m\u001b[0m\n\u001b[0m\u001b[1;32m   1014\u001b[0m             \u001b[0mself\u001b[0m\u001b[0;34m.\u001b[0m\u001b[0m_resize_state\u001b[0m\u001b[0;34m(\u001b[0m\u001b[0;34m)\u001b[0m\u001b[0;34m\u001b[0m\u001b[0m\n\u001b[1;32m   1015\u001b[0m \u001b[0;34m\u001b[0m\u001b[0m\n",
      "\u001b[0;32m~/Documents/markets_challenge/v3/lib/python3.6/site-packages/sklearn/ensemble/gradient_boosting.py\u001b[0m in \u001b[0;36m_decision_function\u001b[0;34m(self, X)\u001b[0m\n\u001b[1;32m   1128\u001b[0m         \u001b[0;31m# for use in inner loop, not raveling the output in single-class case,\u001b[0m\u001b[0;34m\u001b[0m\u001b[0;34m\u001b[0m\u001b[0m\n\u001b[1;32m   1129\u001b[0m         \u001b[0;31m# not doing input validation.\u001b[0m\u001b[0;34m\u001b[0m\u001b[0;34m\u001b[0m\u001b[0m\n\u001b[0;32m-> 1130\u001b[0;31m         \u001b[0mscore\u001b[0m \u001b[0;34m=\u001b[0m \u001b[0mself\u001b[0m\u001b[0;34m.\u001b[0m\u001b[0m_init_decision_function\u001b[0m\u001b[0;34m(\u001b[0m\u001b[0mX\u001b[0m\u001b[0;34m)\u001b[0m\u001b[0;34m\u001b[0m\u001b[0m\n\u001b[0m\u001b[1;32m   1131\u001b[0m         \u001b[0mpredict_stages\u001b[0m\u001b[0;34m(\u001b[0m\u001b[0mself\u001b[0m\u001b[0;34m.\u001b[0m\u001b[0mestimators_\u001b[0m\u001b[0;34m,\u001b[0m \u001b[0mX\u001b[0m\u001b[0;34m,\u001b[0m \u001b[0mself\u001b[0m\u001b[0;34m.\u001b[0m\u001b[0mlearning_rate\u001b[0m\u001b[0;34m,\u001b[0m \u001b[0mscore\u001b[0m\u001b[0;34m)\u001b[0m\u001b[0;34m\u001b[0m\u001b[0m\n\u001b[1;32m   1132\u001b[0m         \u001b[0;32mreturn\u001b[0m \u001b[0mscore\u001b[0m\u001b[0;34m\u001b[0m\u001b[0m\n",
      "\u001b[0;32m~/Documents/markets_challenge/v3/lib/python3.6/site-packages/sklearn/ensemble/gradient_boosting.py\u001b[0m in \u001b[0;36m_init_decision_function\u001b[0;34m(self, X)\u001b[0m\n\u001b[1;32m   1118\u001b[0m         \u001b[0;34m\"\"\"Check input and compute prediction of ``init``. \"\"\"\u001b[0m\u001b[0;34m\u001b[0m\u001b[0m\n\u001b[1;32m   1119\u001b[0m         \u001b[0mself\u001b[0m\u001b[0;34m.\u001b[0m\u001b[0m_check_initialized\u001b[0m\u001b[0;34m(\u001b[0m\u001b[0;34m)\u001b[0m\u001b[0;34m\u001b[0m\u001b[0m\n\u001b[0;32m-> 1120\u001b[0;31m         \u001b[0mX\u001b[0m \u001b[0;34m=\u001b[0m \u001b[0mself\u001b[0m\u001b[0;34m.\u001b[0m\u001b[0mestimators_\u001b[0m\u001b[0;34m[\u001b[0m\u001b[0;36m0\u001b[0m\u001b[0;34m,\u001b[0m \u001b[0;36m0\u001b[0m\u001b[0;34m]\u001b[0m\u001b[0;34m.\u001b[0m\u001b[0m_validate_X_predict\u001b[0m\u001b[0;34m(\u001b[0m\u001b[0mX\u001b[0m\u001b[0;34m,\u001b[0m \u001b[0mcheck_input\u001b[0m\u001b[0;34m=\u001b[0m\u001b[0;32mTrue\u001b[0m\u001b[0;34m)\u001b[0m\u001b[0;34m\u001b[0m\u001b[0m\n\u001b[0m\u001b[1;32m   1121\u001b[0m         \u001b[0;32mif\u001b[0m \u001b[0mX\u001b[0m\u001b[0;34m.\u001b[0m\u001b[0mshape\u001b[0m\u001b[0;34m[\u001b[0m\u001b[0;36m1\u001b[0m\u001b[0;34m]\u001b[0m \u001b[0;34m!=\u001b[0m \u001b[0mself\u001b[0m\u001b[0;34m.\u001b[0m\u001b[0mn_features_\u001b[0m\u001b[0;34m:\u001b[0m\u001b[0;34m\u001b[0m\u001b[0m\n\u001b[1;32m   1122\u001b[0m             raise ValueError(\"X.shape[1] should be {0:d}, not {1:d}.\".format(\n",
      "\u001b[0;32m~/Documents/markets_challenge/v3/lib/python3.6/site-packages/sklearn/tree/tree.py\u001b[0m in \u001b[0;36m_validate_X_predict\u001b[0;34m(self, X, check_input)\u001b[0m\n\u001b[1;32m    382\u001b[0m                              \u001b[0;34m\"match the input. Model n_features is %s and \"\u001b[0m\u001b[0;34m\u001b[0m\u001b[0m\n\u001b[1;32m    383\u001b[0m                              \u001b[0;34m\"input n_features is %s \"\u001b[0m\u001b[0;34m\u001b[0m\u001b[0m\n\u001b[0;32m--> 384\u001b[0;31m                              % (self.n_features_, n_features))\n\u001b[0m\u001b[1;32m    385\u001b[0m \u001b[0;34m\u001b[0m\u001b[0m\n\u001b[1;32m    386\u001b[0m         \u001b[0;32mreturn\u001b[0m \u001b[0mX\u001b[0m\u001b[0;34m\u001b[0m\u001b[0m\n",
      "\u001b[0;31mValueError\u001b[0m: Number of features of the model must match the input. Model n_features is 61 and input n_features is 81 "
     ]
    }
   ],
   "source": [
    "gbr_mae_model = gbr_mae.fit(X_train_dt, y_train_dt)\n",
    "mean_squared_error(y_test_dt, gbr_mae_model.predict(X_test_dt))"
   ]
  },
  {
   "cell_type": "code",
   "execution_count": null,
   "metadata": {},
   "outputs": [],
   "source": [
    "mean_absolute_error(y_test_dt, gbr_mae_model.predict(X_test_dt))"
   ]
  },
  {
   "cell_type": "code",
   "execution_count": null,
   "metadata": {},
   "outputs": [],
   "source": [
    "plot_feature_importance(gbr_dt, X_train_dt)"
   ]
  },
  {
   "cell_type": "code",
   "execution_count": null,
   "metadata": {},
   "outputs": [],
   "source": [
    "plot_feature_importance(gbr_mae_model, X_train_dt)"
   ]
  },
  {
   "cell_type": "code",
   "execution_count": null,
   "metadata": {},
   "outputs": [],
   "source": [
    "train_sizes, train_scores, test_scores =learning_curve(gbr_dt, \n",
    "                                                       X_train, \n",
    "                                                       y_train, \n",
    "                                                       cv=2, \n",
    "                                                       scoring=make_scorer(mean_absolute_error))\n",
    "\n",
    "plt.plot(train_sizes, train_scores.mean(axis=1), label='train')\n",
    "plt.plot(train_sizes, test_scores.mean(axis=1), label='test')\n",
    "plt.legend()"
   ]
  },
  {
   "cell_type": "code",
   "execution_count": null,
   "metadata": {},
   "outputs": [],
   "source": [
    "pd.DataFrame(index=cv_df.index, \n",
    "             data={'predicted': gbr_dt.predict(X_test_dt),\n",
    "                     'actual': y_test_dt}).plot(figsize=(12,4))"
   ]
  },
  {
   "cell_type": "code",
   "execution_count": null,
   "metadata": {},
   "outputs": [],
   "source": [
    "pd.DataFrame(index=cv_df.index, \n",
    "             data={'predicted': gbr_mae.predict(X_test_dt),\n",
    "                     'actual': y_test_dt}).plot(figsize=(12,4))"
   ]
  },
  {
   "cell_type": "code",
   "execution_count": null,
   "metadata": {},
   "outputs": [],
   "source": [
    "cv_df[cv_df.columns[:-4]].plot(figsize=(12,4))"
   ]
  },
  {
   "cell_type": "code",
   "execution_count": null,
   "metadata": {},
   "outputs": [],
   "source": [
    "cv_df[cv_df.columns[-4]].plot(figsize=(12,4))"
   ]
  },
  {
   "cell_type": "code",
   "execution_count": null,
   "metadata": {},
   "outputs": [],
   "source": []
  }
 ],
 "metadata": {
  "kernelspec": {
   "display_name": "Python 3",
   "language": "python",
   "name": "python3"
  },
  "language_info": {
   "codemirror_mode": {
    "name": "ipython",
    "version": 3
   },
   "file_extension": ".py",
   "mimetype": "text/x-python",
   "name": "python",
   "nbconvert_exporter": "python",
   "pygments_lexer": "ipython3",
   "version": "3.6.5"
  }
 },
 "nbformat": 4,
 "nbformat_minor": 2
}
